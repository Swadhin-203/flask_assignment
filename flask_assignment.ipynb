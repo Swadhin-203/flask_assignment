{
 "cells": [
  {
   "cell_type": "markdown",
   "id": "ba1571ec",
   "metadata": {},
   "source": [
    "Q1. What is Flask Framework? What are the advantages of Flask Framework?\n",
    "Ans:Flask is a microframework offering all the basic features of a web application.It's easy to get started on and expand with Pythossn't wealth of libraries and extentions.The major advantages of the flask framework are it is scalable,Flexible,Easy to negotiate,Light weight and it's maintenance consts."
   ]
  },
  {
   "cell_type": "markdown",
   "id": "b9a88451",
   "metadata": {},
   "source": [
    "Q2. Create a simple Flask application to display ‘Hello World!!’. Attach the screenshot of the output in\n",
    "Jupyter Notebook.\n",
    "from flask import Flask\n",
    "app=Flask(__name__)\n",
    "@app.route(\"/\")\n",
    "def hello():\n",
    "    return \"Hello World!!\"\n",
    "if __name__==\"__main__\":\n",
    "    app.run(host=\"0.0.0.0\")\n",
    "\n",
    "![OUTPUT](output.png)\n"
   ]
  },
  {
   "cell_type": "markdown",
   "id": "edb0e4b8",
   "metadata": {},
   "source": [
    "Q3. What is App routing in Flask? Why do we use app routes?\n",
    "\n",
    "Ans:App routing means mapping the URLs to a specific function that will handle the logic for that URL.App routing is used to map the specific URL ith the associated fucntion that is intended to perform some task.It i used to access some particular page like Flask Tutorial in the web application."
   ]
  },
  {
   "cell_type": "markdown",
   "id": "6ef5e925",
   "metadata": {},
   "source": [
    "Q4. Create a “/welcome” route to display the welcome message “Welcome to ABC Corporation” and a “/”\n",
    "route to show the following details:\n",
    "Company Name: ABC Corporation\n",
    "Location: India\n",
    "Contact Detail: 999-999-9999\n",
    "Attach the screenshot of the output in Jupyter Notebook.\n",
    "\n",
    "Ans:Wellcome message\n",
    "![](wellcome.png)"
   ]
  },
  {
   "cell_type": "markdown",
   "id": "c7740205",
   "metadata": {},
   "source": [
    "![](company_name.png)"
   ]
  },
  {
   "cell_type": "code",
   "execution_count": null,
   "id": "f5d0094e",
   "metadata": {},
   "outputs": [],
   "source": [
    "# Q5. What function is used in Flask for URL Building? Write a Python code to demonstrate the working of the\n",
    "# url_for() function.\n",
    "# Ans:The url_for() function is used for dynamically building a URL for a speicific function.\n",
    "# Ans:\n",
    "from flask import *  \n",
    "   \n",
    "app = Flask(__name__)  \n",
    "  \n",
    "@app.route('/ios')  \n",
    "def ios():  \n",
    "    return '<h1>User Selected IOS<h1>'  \n",
    "  \n",
    "@app.route('/windows')  \n",
    "def windows():  \n",
    "    return '<h1>User Selected Windows<h1>'  \n",
    "  \n",
    "@app.route('/android')  \n",
    "def android():  \n",
    "    return '<h1>User Selected Android<h1>'  \n",
    "\n",
    "@app.route('/prod/<name>')  \n",
    "def user(name):  \n",
    "    if name == 'ios':  \n",
    "        return redirect(url_for('ios'))  \n",
    "    if name == 'windows':  \n",
    "        return redirect(url_for('windows'))  \n",
    "    if name == 'android':  \n",
    "        return redirect(url_for('android'))  \n",
    "if __name__ =='__main__':  \n",
    "    app.run(debug = True)  "
   ]
  },
  {
   "cell_type": "code",
   "execution_count": null,
   "id": "be158a6c",
   "metadata": {},
   "outputs": [],
   "source": []
  },
  {
   "cell_type": "code",
   "execution_count": null,
   "id": "2a71b025",
   "metadata": {},
   "outputs": [],
   "source": []
  },
  {
   "cell_type": "code",
   "execution_count": null,
   "id": "49d1f5bf",
   "metadata": {},
   "outputs": [],
   "source": []
  },
  {
   "cell_type": "code",
   "execution_count": null,
   "id": "3f432f45",
   "metadata": {},
   "outputs": [],
   "source": []
  },
  {
   "cell_type": "code",
   "execution_count": null,
   "id": "9087e1fe",
   "metadata": {},
   "outputs": [],
   "source": []
  },
  {
   "cell_type": "code",
   "execution_count": null,
   "id": "e7b845ba",
   "metadata": {},
   "outputs": [],
   "source": []
  },
  {
   "cell_type": "code",
   "execution_count": null,
   "id": "fd28f5fc",
   "metadata": {},
   "outputs": [],
   "source": []
  },
  {
   "cell_type": "code",
   "execution_count": null,
   "id": "eb155e76",
   "metadata": {},
   "outputs": [],
   "source": []
  }
 ],
 "metadata": {
  "kernelspec": {
   "display_name": "Python 3 (ipykernel)",
   "language": "python",
   "name": "python3"
  },
  "language_info": {
   "codemirror_mode": {
    "name": "ipython",
    "version": 3
   },
   "file_extension": ".py",
   "mimetype": "text/x-python",
   "name": "python",
   "nbconvert_exporter": "python",
   "pygments_lexer": "ipython3",
   "version": "3.10.5"
  }
 },
 "nbformat": 4,
 "nbformat_minor": 5
}
